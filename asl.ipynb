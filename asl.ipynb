{
  "nbformat": 4,
  "nbformat_minor": 0,
  "metadata": {
    "colab": {
      "name": "asl.ipynb",
      "provenance": [],
      "collapsed_sections": []
    },
    "kernelspec": {
      "name": "python3",
      "display_name": "Python 3"
    }
  },
  "cells": [
    {
      "cell_type": "code",
      "metadata": {
        "id": "ksJSya14Dqx-"
      },
      "source": [
        "from google.colab import drive\n",
        "drive.mount('/content/drive')"
      ],
      "execution_count": null,
      "outputs": []
    },
    {
      "cell_type": "code",
      "metadata": {
        "id": "IQhMAocvmmzq"
      },
      "source": [
        "import tensorflow as tf\n",
        "from tensorflow.keras.models import Sequential\n",
        "from tensorflow.keras.layers import Dense, Flatten, Conv2D, MaxPooling2D, Activation, Dropout\n",
        "from tensorflow.keras.losses import sparse_categorical_crossentropy\n",
        "from tensorflow.keras.optimizers import Adam\n",
        "from tensorflow.keras.preprocessing.image import ImageDataGenerator\n",
        "import tensorflow_hub as hub\n",
        "import numpy as np\n",
        "import matplotlib.pyplot as plt"
      ],
      "execution_count": null,
      "outputs": []
    },
    {
      "cell_type": "code",
      "metadata": {
        "id": "gpWxhGpOxgRi"
      },
      "source": [
        "img_size = 224\n",
        "batch_size = 32\n",
        "epochs = 5\n",
        "train_path = '/content/drive/My Drive/ASL-recognition/asl_alphabet_train/asl_alphabet_train'\n",
        "\n",
        "test_path = '/content/drive/My Drive/ASL-recognition/asl_alphabet_test/asl_alphabet_test'"
      ],
      "execution_count": null,
      "outputs": []
    },
    {
      "cell_type": "code",
      "metadata": {
        "id": "bsQkehpkEZAo"
      },
      "source": [
        "augment_train_data = ImageDataGenerator(horizontal_flip=True,\n",
        "                                        rotation_range=50,\n",
        "                                        zoom_range=0.2,\n",
        "                                        width_shift_range=0.2,\n",
        "                                        height_shift_range=0.2,\n",
        "                                        rescale=1./255,\n",
        "                                        validation_split=0.1)\n",
        "\n",
        "augment_test_data = ImageDataGenerator(rescale=1./255)"
      ],
      "execution_count": null,
      "outputs": []
    },
    {
      "cell_type": "code",
      "metadata": {
        "id": "7QaRGqq7FyEN"
      },
      "source": [
        "train_dataset = augment_train_data.flow_from_directory(train_path,\n",
        "                                                       shuffle=True,\n",
        "                                                       classes=['A', 'B', 'C', 'D', 'E', 'F', 'G', 'H', 'I', 'J', 'K',\n",
        "                                                                'L', 'M', 'N',\n",
        "                                                                'O', 'P', 'Q', 'R', 'S', 'T', 'U', 'V', 'W', 'X', 'Y',\n",
        "                                                                'Z', 'space',\n",
        "                                                                'del', 'nothing'],\n",
        "                                                       target_size=(\n",
        "                                                           img_size, img_size),\n",
        "                                                       batch_size=batch_size)"
      ],
      "execution_count": null,
      "outputs": []
    },
    {
      "cell_type": "code",
      "metadata": {
        "id": "9LGON3PdF1Rm"
      },
      "source": [
        "test_dataset = augment_train_data.flow_from_directory(test_path,\n",
        "                                                      classes=['A', 'B', 'C', 'D', 'E', 'F', 'G', 'H', 'I', 'J', 'K',\n",
        "                                                               'L', 'M', 'N',\n",
        "                                                               'O', 'P', 'Q', 'R', 'S', 'T', 'U', 'V', 'W', 'X', 'Y',\n",
        "                                                               'Z', 'space', 'del', 'nothing'],\n",
        "                                                      target_size=(\n",
        "                                                          img_size, img_size),\n",
        "                                                      batch_size=batch_size)"
      ],
      "execution_count": null,
      "outputs": []
    },
    {
      "cell_type": "code",
      "metadata": {
        "id": "bmEm9nrNGhbN"
      },
      "source": [
        "fig = plt.figure(figsize=(15, 10))\n",
        "for i in range(1,9):\n",
        "    plt.subplot(4,2,i)\n",
        "    plt.imshow(train_dataset[0][0][i-1])\n",
        "plt.show()"
      ],
      "execution_count": null,
      "outputs": []
    },
    {
      "cell_type": "code",
      "metadata": {
        "id": "L6-6fD-xHhQl"
      },
      "source": [
        "url = \"https://tfhub.dev/google/tf2-preview/mobilenet_v2/classification/4\"\n",
        "\n",
        "download_model = hub.KerasLayer(url,input_shape=(img_size,img_size,3))\n",
        "\n",
        "model = Sequential([\n",
        "    download_model,\n",
        "    Dense(29),\n",
        "    Activation(\"softmax\")\n",
        "])"
      ],
      "execution_count": null,
      "outputs": []
    },
    {
      "cell_type": "code",
      "metadata": {
        "id": "DP94saepHlNB"
      },
      "source": [
        "model.compile(optimizer=Adam(1e-3),\n",
        "              loss=\"categorical_crossentropy\",\n",
        "              metrics=['accuracy'])"
      ],
      "execution_count": null,
      "outputs": []
    },
    {
      "cell_type": "code",
      "metadata": {
        "id": "gtEiLtEyHn84"
      },
      "source": [
        "print(\"\\n Model summary: \")\n",
        "print(model.summary())\n",
        "\n",
        "print(\"\\n Model Training: \")\n",
        "model.fit(train_dataset,\n",
        "          batch_size=batch_size,\n",
        "          epochs=epochs)"
      ],
      "execution_count": null,
      "outputs": []
    },
    {
      "cell_type": "code",
      "metadata": {
        "id": "X87efzZK8QcN"
      },
      "source": [
        "print(\"\\n Model Evaluation: \")\n",
        "model.evaluate(test_dataset)"
      ],
      "execution_count": null,
      "outputs": []
    },
    {
      "cell_type": "code",
      "metadata": {
        "id": "1VmqIUtWgiqZ"
      },
      "source": [
        "model.save(\"/content/drive/My Drive/ASL-recognition/h5/asl_model.h5\")"
      ],
      "execution_count": null,
      "outputs": []
    },
    {
      "cell_type": "code",
      "metadata": {
        "id": "lbYR6VjmVwha"
      },
      "source": [
        "# you can also save the model using this method\n",
        "# model.save(\"/content/drive/My Drive/ASL-recognition/model/\")"
      ],
      "execution_count": null,
      "outputs": []
    },
    {
      "cell_type": "code",
      "metadata": {
        "id": "CasDs9iTgc1p"
      },
      "source": [
        "load_model = tf.keras.models.load_model(\"/content/drive/My Drive/ASL-recognition/h5/asl_model.h5\",custom_objects={\"KerasLayer\":hub.KerasLayer})\n",
        "print(load_model.summary())"
      ],
      "execution_count": null,
      "outputs": []
    },
    {
      "cell_type": "code",
      "metadata": {
        "id": "2mnX_4Znv2vV"
      },
      "source": [
        "# model.predict(test_dataset[0][0])"
      ],
      "execution_count": null,
      "outputs": []
    }
  ]
}
